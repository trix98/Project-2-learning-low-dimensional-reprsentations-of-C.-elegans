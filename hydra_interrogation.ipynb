{
 "cells": [
  {
   "cell_type": "code",
   "execution_count": 3,
   "id": "3606e26d",
   "metadata": {},
   "outputs": [],
   "source": [
    "from skimage.transform import resize\n",
    "from scipy.ndimage.interpolation import rotate\n",
    "import matplotlib.pyplot as plt\n",
    "import os\n",
    "from collections import Counter\n",
    "from PIL import Image\n",
    "import numpy as np\n",
    "import cv2\n",
    "import pandas as pd\n",
    "from skimage.io import imread\n",
    "from sklearn.decomposition import PCA\n",
    "import math"
   ]
  },
  {
   "cell_type": "code",
   "execution_count": 4,
   "id": "c1096f77",
   "metadata": {},
   "outputs": [],
   "source": [
    "os.chdir(r'C:\\Users\\tomri\\OneDrive - Imperial College London\\worms\\hydra\\Tom\\Tom\\10k_Images\\Masked_Images')"
   ]
  },
  {
   "cell_type": "code",
   "execution_count": null,
   "id": "286aeb13",
   "metadata": {},
   "outputs": [],
   "source": [
    "def describe_worm(image):\n",
    "    print(\"shape:\", image.shape)\n",
    "    print(\"unique:\", np.unique(image))"
   ]
  },
  {
   "cell_type": "code",
   "execution_count": 5,
   "id": "1d7e712b",
   "metadata": {},
   "outputs": [
    {
     "name": "stdout",
     "output_type": "stream",
     "text": [
      "10010\n",
      "Image0105_masks.png\n"
     ]
    }
   ],
   "source": [
    "image_names = os.listdir()[1:]\n",
    "print(len(image_names))\n",
    "print(image_names[100])"
   ]
  },
  {
   "cell_type": "code",
   "execution_count": null,
   "id": "a52745ac",
   "metadata": {},
   "outputs": [],
   "source": [
    "image_length = []\n",
    "for i in image_names:\n",
    "    image = Image.open(i)\n",
    "    image_length.append(image.size)\n",
    "\n",
    "dim_list = Counter(image_length)\n",
    "print(\"#unique \", len(dim_list))\n",
    "for i in image_length:\n",
    "    print(i, dim_list[i])"
   ]
  },
  {
   "cell_type": "code",
   "execution_count": null,
   "id": "3eeb1edc",
   "metadata": {},
   "outputs": [],
   "source": [
    "for x in range(300, 400, 10):\n",
    "    print(\"#worms <= px:\", x)\n",
    "    count = 0\n",
    "    for i, j in image_length:\n",
    "        if i <= x:\n",
    "            count +=1\n",
    "    print(count)"
   ]
  },
  {
   "cell_type": "code",
   "execution_count": null,
   "id": "f3e0b80f",
   "metadata": {},
   "outputs": [],
   "source": [
    "#pixel values one image\n",
    "input_image = Image.open(image_names[1])\n",
    "  \n",
    "pix_val = list(input_image.getdata())\n",
    "print(pix_val)\n",
    "\n",
    "#values are 0 or 100\n",
    "\n",
    "input_image = cv2.imread(image_names[1])\n",
    "h, w, c = input_image.shape\n",
    "print(h, w, c)\n",
    "#3 channels; RGB\n",
    "\n",
    "#binary values change from picture to picturef"
   ]
  },
  {
   "cell_type": "code",
   "execution_count": null,
   "id": "ddb6cb86",
   "metadata": {},
   "outputs": [],
   "source": [
    "#check all pictures are binary\n",
    "\n",
    "for i in image_names:\n",
    "    worm = cv2.imread(i)\n",
    "    if len(np.unique(worm)) != 2:\n",
    "        print(i)\n",
    "\n",
    "#all images are binary"
   ]
  },
  {
   "cell_type": "code",
   "execution_count": null,
   "id": "9d030292",
   "metadata": {},
   "outputs": [],
   "source": [
    "#resize all images\n",
    "input_image = cv2.imread(image_names[1])\n",
    "print(input_image.shape)\n",
    "res = resize(input_image, (300, 300))\n",
    "print(res.shape)"
   ]
  },
  {
   "cell_type": "code",
   "execution_count": null,
   "id": "566e80bd",
   "metadata": {},
   "outputs": [],
   "source": [
    "#parse image\n",
    "test_image = image_names[9010]\n",
    "worm = imread(test_image)#grey scale 3 channels -> 1\n",
    "describe_worm(worm)\n",
    "plt.imshow(worm)\n",
    "plt.show()\n",
    "\n",
    "#min-max scale\n",
    "worm = worm / np.max(worm)\n",
    "\n",
    "#resize\n",
    "worm = resize(worm, (300, 300))\n",
    "worm = np.round(worm) #keep as 0. and 1. \n",
    "\n",
    "#check\n",
    "describe_worm(worm)\n",
    "\n",
    "#extract \n",
    "\n",
    "worm_coords = np.array([[x, y] for y, x in np.argwhere(worm == 1.0)])\n",
    "print(worm_coords.shape)\n",
    "for i in worm_coords:\n",
    "    print(worm_coords[i, :])\n",
    "    \n",
    "\n",
    "pca = PCA(n_components=2)\n",
    "pca.fit(worm_coords)\n",
    "\n",
    "plt.imshow(worm)\n",
    "\n",
    "\n",
    "# code stolen from: https://jakevdp.github.io/PythonDataScienceHandbook/05.09-principal-component-analysis.html\n",
    "def draw_vector(v0, v1, ax=None):\n",
    "    ax = ax or plt.gca()\n",
    "    arrowprops = dict(arrowstyle='->', linewidth=2, shrinkA=0, shrinkB=0)\n",
    "    ax.annotate(\"\", v1, v0, arrowprops=arrowprops)\n",
    "\n",
    "\n",
    "# code stolen from: https://jakevdp.github.io/PythonDataScienceHandbook/05.09-principal-component-analysis.html\n",
    "for length, vector in zip(pca.explained_variance_, pca.components_):\n",
    "    v = vector * 3 * np.sqrt(length)\n",
    "    draw_vector(pca.mean_, pca.mean_ + v)\n",
    "\n",
    "# arrow doesn't plot if the point is off-screen\n",
    "plt.ylim(0, 350)\n",
    "plt.xlim(0, 350)\n",
    "\n",
    "plt.show()"
   ]
  },
  {
   "cell_type": "code",
   "execution_count": 6,
   "id": "92ec0078",
   "metadata": {},
   "outputs": [],
   "source": [
    "def describe_worm(image):\n",
    "    print(\"shape:\", image.shape)\n",
    "    print(\"unique:\", np.unique(image))\n",
    "\n",
    "def scale_resize(worm):\n",
    "    \"\"\"\n",
    "    given a loaded png image taking binary values \n",
    "    min-max scales to take values 0 or 1\n",
    "    and resizes to (300, 300)\n",
    "    \"\"\"\n",
    "    #min-max scale\n",
    "    worm = worm / np.max(worm)\n",
    "\n",
    "    #resize\n",
    "    worm = resize(worm, (300, 300))\n",
    "    worm = np.round(worm) #keep as 0. and 1. \n",
    "    \n",
    "    return worm \n",
    "\n",
    "\n",
    "\n",
    "def pca_align(worm):\n",
    "    \"\"\"\n",
    "    take scaled-binarised worm image and\n",
    "    aligns worms by first principle component\n",
    "    \"\"\"\n",
    "    #extract x,y coordinates of the worm \n",
    "    worm_coords = np.array([[x, y] for x, y in np.argwhere(worm == 1.0)])\n",
    "    #calculate first two PC\n",
    "    pca = PCA(n_components=2)\n",
    "    pca = pca.fit(worm_coords)\n",
    "    #convert into angle \n",
    "    angle = np.arctan2(*pca.components_[0])\n",
    "    #rotate image \n",
    "    rotated_img = rotate(worm,angle/math.pi*180-90, mode = 'nearest')\n",
    "    \n",
    "    return rotated_img\n",
    "\n",
    "def process_single(index):\n",
    "    \"\"\"\n",
    "    Load image by index from list of images \n",
    "    and call processing functions \n",
    "    \"\"\"\n",
    "    test_image = image_names[index]\n",
    "    worm = imread(test_image)\n",
    "\n",
    "    \n",
    "    worm = scale_resize(worm)\n",
    "    worm = pca_align(worm)\n",
    "    \n",
    "    return worm\n",
    "\n",
    "def process_single_testing(index):\n",
    "    \"\"\"\n",
    "    Load image by index from list of images \n",
    "    and call processing functions \n",
    "    \"\"\"\n",
    "    test_image = image_names[index]\n",
    "    worm = imread(test_image)\n",
    "    print(\"original\")\n",
    "    describe_worm(worm)\n",
    "    plt.imshow(worm)\n",
    "    plt.show()\n",
    "    \n",
    "    worm = scale_resize(worm)\n",
    "    print(\"\\n scaled+resized\")\n",
    "    describe_worm(worm)\n",
    "\n",
    "    worm = pca_align(worm)\n",
    "    print(\"\\n PCA aligned\")\n",
    "    describe_worm(worm)\n",
    "    plt.imshow(worm)\n",
    "    plt.show()\n",
    "    \n",
    "    return worm\n"
   ]
  },
  {
   "cell_type": "code",
   "execution_count": null,
   "id": "f722b87c",
   "metadata": {},
   "outputs": [],
   "source": [
    "worm = process_single(100)\n",
    "plt.imshow(worm)\n",
    "describe_worm(worm)"
   ]
  },
  {
   "cell_type": "code",
   "execution_count": null,
   "id": "e62cd6dd",
   "metadata": {},
   "outputs": [],
   "source": [
    "from matplotlib import pyplot\n",
    "save_path = '../r/{}'\n",
    "save_path2 = '../p/{}'\n",
    "\n",
    "for i in range(500):\n",
    "    worm = process_single(i)\n",
    "    plt.savefig(save_path.format(i))\n",
    "\n",
    "    \n",
    "    worm_coords = np.array([[x, y] for x, y in np.argwhere(worm == 1.0)])\n",
    "    pca = PCA(n_components=2)\n",
    "    pca = pca.fit(worm_coords)\n",
    "    angle = np.arctan2(*pca.components_[0])\n",
    "    rotated_img = rotate(worm,angle/math.pi*180-90)\n",
    "    \n",
    "    pyplot.imshow(worm)\n",
    "    pyplot.show()\n",
    "    \n",
    "    pyplot.imshow(rotated_img)\n",
    "    plt.savefig(save_path2.format(i))\n",
    "\n",
    "    \n",
    "    pyplot.show()"
   ]
  },
  {
   "cell_type": "code",
   "execution_count": null,
   "id": "350b9dbf",
   "metadata": {},
   "outputs": [],
   "source": [
    "worm_coords = np.array([[x, y] for y, x in np.argwhere(worm == 1.0)])\n",
    "pca = PCA(n_components=2)\n",
    "pca = pca.fit(worm_coords)\n",
    "angle = np.arctan2(*pca.components_[0])\n",
    "rotated_img = rotate(worm,angle/math.pi*180-90)\n",
    "plt.imshow(rotated_img)\n"
   ]
  },
  {
   "cell_type": "code",
   "execution_count": null,
   "id": "6df469ea",
   "metadata": {},
   "outputs": [],
   "source": [
    "#from pca worms, look at unique vaues\n",
    "#re-biarise\n",
    "worm = np.round(worm)\n",
    "#aligned get coordinates\n",
    "worm_coords = np.array([[x, y] for x, y in np.argwhere(worm == 1.0)])\n",
    "#max mins and shift all cordinates\n",
    "yt = 300 - np.max(worm_coords[:,0]) #to add to points in the first column \n",
    "xt = np.min(worm_coords[:, 1])\n",
    "print(xt, yt)\n",
    "#make 0 array of 300\n",
    "\n",
    "#in a for looop go through coordinated if in coords change to 1"
   ]
  },
  {
   "cell_type": "code",
   "execution_count": null,
   "id": "8d4c7781",
   "metadata": {},
   "outputs": [],
   "source": [
    "s = worm_coords\n",
    "print(s)\n",
    "yt = 300 - np.max(s[:,0]) #to add to points in the first column \n",
    "print(yt)\n",
    "xt = np.min(s[:, 1]) #to minus from points in second column\n",
    "print(xt)"
   ]
  },
  {
   "cell_type": "code",
   "execution_count": 29,
   "id": "051ec567",
   "metadata": {},
   "outputs": [
    {
     "data": {
      "image/png": "[encoded data removed]",
      "text/plain": [
       "<Figure size 432x288 with 1 Axes>"
      ]
     },
     "metadata": {
      "needs_background": "light"
     },
     "output_type": "display_data"
    },
    {
     "name": "stdout",
     "output_type": "stream",
     "text": [
      "69 330\n",
      "169 234\n",
      "0 261\n",
      "0 65\n"
     ]
    }
   ],
   "source": [
    "#how to translate worm_coords\n",
    "worm = process_single(89)\n",
    "worm = np.round(worm)\n",
    "plt.imshow(worm)\n",
    "plt.show()\n",
    "worm_coords = np.array([[x, y] for x, y in np.argwhere(worm == 1.0)])\n",
    "print(np.min(worm_coords[:, 0]), np.max(worm_coords[:, 0]))\n",
    "print(np.min(worm_coords[:, 1]), np.max(worm_coords[:, 1]))\n",
    "c2 = np.copy(worm_coords)\n",
    "yt = np.min(worm_coords[:,0]) #to add to points in the first column \n",
    "xt = np.min(worm_coords[:, 1])\n",
    "c2[:,0] -= yt\n",
    "c2[:, 1] -= xt\n",
    "print(np.min(c2[:, 0]), np.max(c2[:, 0]))\n",
    "print(np.min(c2[:, 1]), np.max(c2[:, 1]))"
   ]
  },
  {
   "cell_type": "code",
   "execution_count": 30,
   "id": "48305f2a",
   "metadata": {},
   "outputs": [
    {
     "name": "stdout",
     "output_type": "stream",
     "text": [
      "[[  0  51]\n",
      " [  0  52]\n",
      " [  1  47]\n",
      " ...\n",
      " [260  31]\n",
      " [261  28]\n",
      " [261  30]]\n"
     ]
    }
   ],
   "source": [
    "print(c2)"
   ]
  },
  {
   "cell_type": "code",
   "execution_count": 34,
   "id": "df5fb024",
   "metadata": {},
   "outputs": [
    {
     "ename": "IndexError",
     "evalue": "index 300 is out of bounds for axis 0 with size 300",
     "output_type": "error",
     "traceback": [
      "\u001b[1;31m---------------------------------------------------------------------------\u001b[0m",
      "\u001b[1;31mIndexError\u001b[0m                                Traceback (most recent call last)",
      "\u001b[1;32m<ipython-input-34-4435be07dec3>\u001b[0m in \u001b[0;36m<module>\u001b[1;34m\u001b[0m\n\u001b[0;32m      1\u001b[0m \u001b[0mgrid\u001b[0m \u001b[1;33m=\u001b[0m \u001b[0mnp\u001b[0m\u001b[1;33m.\u001b[0m\u001b[0mzeros\u001b[0m\u001b[1;33m(\u001b[0m\u001b[1;33m(\u001b[0m\u001b[1;36m300\u001b[0m\u001b[1;33m,\u001b[0m \u001b[1;36m300\u001b[0m\u001b[1;33m)\u001b[0m\u001b[1;33m)\u001b[0m\u001b[1;33m\u001b[0m\u001b[1;33m\u001b[0m\u001b[0m\n\u001b[0;32m      2\u001b[0m \u001b[1;32mfor\u001b[0m \u001b[0mpoint\u001b[0m \u001b[1;32min\u001b[0m \u001b[0mworm_coords\u001b[0m\u001b[1;33m:\u001b[0m\u001b[1;33m\u001b[0m\u001b[1;33m\u001b[0m\u001b[0m\n\u001b[1;32m----> 3\u001b[1;33m     \u001b[0mgrid\u001b[0m\u001b[1;33m[\u001b[0m\u001b[0mpoint\u001b[0m\u001b[1;33m[\u001b[0m\u001b[1;36m0\u001b[0m\u001b[1;33m]\u001b[0m\u001b[1;33m,\u001b[0m \u001b[0mpoint\u001b[0m\u001b[1;33m[\u001b[0m\u001b[1;36m1\u001b[0m\u001b[1;33m]\u001b[0m\u001b[1;33m]\u001b[0m \u001b[1;33m=\u001b[0m \u001b[1;36m1.0\u001b[0m\u001b[1;33m\u001b[0m\u001b[1;33m\u001b[0m\u001b[0m\n\u001b[0m\u001b[0;32m      4\u001b[0m \u001b[1;33m\u001b[0m\u001b[0m\n\u001b[0;32m      5\u001b[0m \u001b[0mplt\u001b[0m\u001b[1;33m.\u001b[0m\u001b[0mimshow\u001b[0m\u001b[1;33m(\u001b[0m\u001b[0mgrid\u001b[0m\u001b[1;33m)\u001b[0m\u001b[1;33m\u001b[0m\u001b[1;33m\u001b[0m\u001b[0m\n",
      "\u001b[1;31mIndexError\u001b[0m: index 300 is out of bounds for axis 0 with size 300"
     ]
    }
   ],
   "source": [
    "grid = np.zeros((300, 300))\n",
    "for point in worm_coords:\n",
    "    grid[point[0], point[1]] = 1.0\n",
    "\n",
    "plt.imshow(grid)\n",
    "plt.show()"
   ]
  },
  {
   "cell_type": "code",
   "execution_count": 14,
   "id": "19f40d22",
   "metadata": {},
   "outputs": [
    {
     "name": "stdout",
     "output_type": "stream",
     "text": [
      "[ 65 221] [ 50 371] \n",
      "\n",
      "[ 66 220] [ 51 370] \n",
      "\n",
      "[ 66 221] [ 51 371] \n",
      "\n",
      "[ 66 222] [ 51 372] \n",
      "\n",
      "[ 67 219] [ 52 369] \n",
      "\n",
      "[ 67 220] [ 52 370] \n",
      "\n",
      "[ 67 221] [ 52 371] \n",
      "\n",
      "[ 67 222] [ 52 372] \n",
      "\n",
      "[ 67 223] [ 52 373] \n",
      "\n",
      "[ 68 219] [ 53 369] \n",
      "\n",
      "[ 68 220] [ 53 370] \n",
      "\n",
      "[ 68 221] [ 53 371] \n",
      "\n",
      "[ 68 222] [ 53 372] \n",
      "\n",
      "[ 68 223] [ 53 373] \n",
      "\n",
      "[ 69 217] [ 54 367] \n",
      "\n",
      "[ 69 218] [ 54 368] \n",
      "\n",
      "[ 69 219] [ 54 369] \n",
      "\n",
      "[ 69 220] [ 54 370] \n",
      "\n",
      "[ 69 221] [ 54 371] \n",
      "\n",
      "[ 69 222] [ 54 372] \n",
      "\n",
      "[ 69 223] [ 54 373] \n",
      "\n",
      "[ 69 224] [ 54 374] \n",
      "\n",
      "[ 69 225] [ 54 375] \n",
      "\n",
      "[ 70 217] [ 55 367] \n",
      "\n",
      "[ 70 218] [ 55 368] \n",
      "\n",
      "[ 70 219] [ 55 369] \n",
      "\n",
      "[ 70 220] [ 55 370] \n",
      "\n",
      "[ 70 221] [ 55 371] \n",
      "\n",
      "[ 70 222] [ 55 372] \n",
      "\n",
      "[ 70 223] [ 55 373] \n",
      "\n",
      "[ 70 224] [ 55 374] \n",
      "\n",
      "[ 70 225] [ 55 375] \n",
      "\n",
      "[ 70 226] [ 55 376] \n",
      "\n",
      "[ 71 217] [ 56 367] \n",
      "\n",
      "[ 71 218] [ 56 368] \n",
      "\n",
      "[ 71 219] [ 56 369] \n",
      "\n",
      "[ 71 220] [ 56 370] \n",
      "\n",
      "[ 71 221] [ 56 371] \n",
      "\n",
      "[ 71 222] [ 56 372] \n",
      "\n",
      "[ 71 223] [ 56 373] \n",
      "\n",
      "[ 71 224] [ 56 374] \n",
      "\n",
      "[ 71 225] [ 56 375] \n",
      "\n",
      "[ 71 226] [ 56 376] \n",
      "\n",
      "[ 72 217] [ 57 367] \n",
      "\n",
      "[ 72 218] [ 57 368] \n",
      "\n",
      "[ 72 219] [ 57 369] \n",
      "\n",
      "[ 72 220] [ 57 370] \n",
      "\n",
      "[ 72 221] [ 57 371] \n",
      "\n",
      "[ 72 222] [ 57 372] \n",
      "\n",
      "[ 72 223] [ 57 373] \n",
      "\n"
     ]
    }
   ],
   "source": [
    "#check translation \n",
    "for i in range(50):\n",
    "    print(worm_coords[i, :], c2[i, :], \"\\n\")"
   ]
  },
  {
   "cell_type": "code",
   "execution_count": null,
   "id": "e3dab08d",
   "metadata": {},
   "outputs": [],
   "source": [
    "#check all pca-aligned worms are inside 300*300\n",
    "#this is acheived by originally resizesing below 213 using pythagoras \n",
    "divergents = []\n",
    "for i in range(len(image_names)):\n",
    "    worm = process_single(i)\n",
    "    worm = np.round(worm)\n",
    "    worm_coords = np.array([[x, y] for x, y in np.argwhere(worm == 1.0)])\n",
    "    if np.min(worm_coords[:, 0]) <0 or np.max(worm_coords[:, 0]) > 300:\n",
    "        divergents.append(image_names[i])\n",
    "    if np.min(worm_coords[:, 1]) <0 or np.max(worm_coords[:, 1]) > 300:\n",
    "        divergents.append(image_names[i])\n",
    "print(len(divergents))\n",
    "print(divergents)"
   ]
  },
  {
   "cell_type": "code",
   "execution_count": null,
   "id": "46543895",
   "metadata": {},
   "outputs": [],
   "source": []
  },
  {
   "cell_type": "code",
   "execution_count": null,
   "id": "81aa29c9",
   "metadata": {},
   "outputs": [],
   "source": [
    "for i in range(50):\n",
    "    worm = process_single(i)\n",
    "    print(len(np.unique(worm)), \"\\n\\n\")"
   ]
  },
  {
   "cell_type": "code",
   "execution_count": null,
   "id": "ed390cfc",
   "metadata": {},
   "outputs": [],
   "source": [
    "#worm = np.round(worm)\n",
    "#need to round\n",
    "plt.hist(np.unique(worm))\n",
    "print(np.unique(worm))"
   ]
  },
  {
   "cell_type": "code",
   "execution_count": null,
   "id": "e237beca",
   "metadata": {},
   "outputs": [],
   "source": [
    "plt.imshow(worm)"
   ]
  },
  {
   "cell_type": "code",
   "execution_count": null,
   "id": "037ad05d",
   "metadata": {},
   "outputs": [],
   "source": [
    "#how to translate worm_coords\n",
    "worm = process_single(9190)\n",
    "worm = np.round(worm)\n",
    "plt.imshow(worm)\n",
    "plt.show()\n",
    "worm_coords = np.array([[x, y] for x, y in np.argwhere(worm == 1.0)])\n",
    "print(np.min(worm_coords[:, 0]), np.max(worm_coords[:, 0]))\n",
    "print(np.min(worm_coords[:, 1]), np.max(worm_coords[:, 1]))\n",
    "c2 = np.copy(worm_coords)\n",
    "yt = np.min(worm_coords[:,0]) #to add to points in the first column \n",
    "xt = np.min(worm_coords[:, 1])\n",
    "c2[:,0] -= yt\n",
    "c2[:, 1] -= xt\n",
    "print(np.min(c2[:, 0]), np.max(c2[:, 0]))\n",
    "print(np.min(c2[:, 1]), np.max(c2[:, 1]))"
   ]
  },
  {
   "cell_type": "code",
   "execution_count": null,
   "id": "8f877d12",
   "metadata": {},
   "outputs": [],
   "source": [
    "grid = np.zeros((300, 300))\n",
    "for point in c2:\n",
    "    grid[point[0], point[1]] = 1.0"
   ]
  },
  {
   "cell_type": "code",
   "execution_count": null,
   "id": "519d4aa3",
   "metadata": {},
   "outputs": [],
   "source": []
  }
 ],
 "metadata": {
  "kernelspec": {
   "display_name": "Python 3",
   "language": "python",
   "name": "python3"
  },
  "language_info": {
   "codemirror_mode": {
    "name": "ipython",
    "version": 3
   },
   "file_extension": ".py",
   "mimetype": "text/x-python",
   "name": "python",
   "nbconvert_exporter": "python",
   "pygments_lexer": "ipython3",
   "version": "3.6.13"
  }
 },
 "nbformat": 4,
 "nbformat_minor": 5
}
